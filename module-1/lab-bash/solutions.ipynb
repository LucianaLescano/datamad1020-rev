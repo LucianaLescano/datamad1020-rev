{
 "cells": [
  {
   "cell_type": "markdown",
   "metadata": {},
   "source": [
    "#### Imprime en consola Hello World."
   ]
  },
  {
   "cell_type": "markdown",
   "metadata": {},
   "source": [
    "Your solution here: echo \"Hello World\""
   ]
  },
  {
   "cell_type": "markdown",
   "metadata": {},
   "source": [
    "#### Crea un directorio nuevo llamado new_dir."
   ]
  },
  {
   "cell_type": "markdown",
   "metadata": {},
   "source": [
    "Your solution here: mkdir new_dir"
   ]
  },
  {
   "cell_type": "markdown",
   "metadata": {},
   "source": [
    "#### Elimina ese directorio."
   ]
  },
  {
   "cell_type": "markdown",
   "metadata": {},
   "source": [
    "Your solution here: rm -r new_dir"
   ]
  },
  {
   "cell_type": "markdown",
   "metadata": {},
   "source": [
    "#### Copia el archivo `sed.txt` dentro de la carpeta lorem a la carpeta lorem-copy."
   ]
  },
  {
   "cell_type": "markdown",
   "metadata": {},
   "source": [
    "cp ../lorem/sed.txt ../lorem-copy/sed.txt"
   ]
  },
  {
   "cell_type": "markdown",
   "metadata": {},
   "source": [
    "#### Copia los otros dos archivos de la carpeta lorem a la carpeta lorem-copy en una sola línea mediante `;`. "
   ]
  },
  {
   "cell_type": "markdown",
   "metadata": {},
   "source": [
    " cp ../lorem/at.txt ../lorem-copy/at.txt;cp ../lorem/lorem.txt ../lorem-copy/lorem.txt"
   ]
  },
  {
   "cell_type": "markdown",
   "metadata": {},
   "source": [
    "####  Muestra el contenido del archivo `sed.txt` dentro de la carpeta lorem."
   ]
  },
  {
   "cell_type": "markdown",
   "metadata": {},
   "source": [
    "cat sed.txt\n",
    "\n",
    "Sed ut perspiciatis unde omnis iste natus error sit voluptatem accusantium doloremque laudantium, \n",
    "totam rem aperiam, eaque ipsa quae ab illo inventore veritatis et quasi architecto beatae vitae dicta sunt explicabo. \n",
    "Nemo enim ipsam voluptatem quia voluptas sit aspernatur aut odit aut fugit, \n",
    "sed quia consequuntur magni dolores eos qui ratione voluptatem sequi nesciunt. \n",
    "Neque porro quisquam est, qui dolorem ipsum quia dolor sit amet, consectetur, adipisci velit, \n",
    "sed quia non numquam eius modi tempora incidunt ut labore et dolore magnam aliquam quaerat voluptatem. \n",
    "Ut enim ad minima veniam, quis nostrum exercitationem ullam corporis suscipit laboriosam, \n",
    "nisi ut aliquid ex ea commodi consequatur? Quis autem vel eum iure reprehenderit qui in ea voluptate velit esse quam nihil molestiae consequatur, \n",
    "vel illum qui dolorem eum fugiat quo voluptas nulla pariatur?% "
   ]
  },
  {
   "cell_type": "markdown",
   "metadata": {},
   "source": [
    "#### Muestra el contenido de los archivos `at.txt` y `lorem.txt` dentro de la carpeta lorem. "
   ]
  },
  {
   "cell_type": "markdown",
   "metadata": {},
   "source": [
    "cat at.txt;cat lorem.txt\n",
    "\n",
    "At vero eos et accusamus et iusto odio dignissimos ducimus qui blanditiis praesentium voluptatum \n",
    "deleniti atque corrupti quos dolores et quas molestias excepturi sint occaecati cupiditate non \n",
    "provident, similique sunt in culpa qui officia deserunt mollitia animi, id est laborum et dolorum fuga. \n",
    "Et harum quidem rerum facilis est et expedita distinctio. \n",
    "Nam libero tempore, cum soluta nobis est eligendi optio cumque nihil impedit quo minus id quod \n",
    "maxime placeat facere possimus, omnis voluptas assumenda est, omnis dolor repellendus. \n",
    "Temporibus autem quibusdam et aut officiis debitis aut rerum necessitatibus saepe eveniet \n",
    "ut et voluptates repudiandae sint et molestiae non recusandae. \n",
    "Itaque earum rerum hic tenetur a sapiente delectus, ut aut reiciendis voluptatibus maiores \n",
    "alias consequatur aut perferendis doloribus asperiores repellatLorem ipsum dolor sit amet, consectetur adipiscing elit, sed do eiusmod tempor incididunt ut labore et dolore magna aliqua. \n",
    "Ut enim ad minim veniam, quis nostrud exercitation ullamco laboris nisi ut aliquip ex ea commodo consequat. \n",
    "Duis aute irure dolor in reprehenderit in voluptate velit esse cillum dolore eu fugiat nulla pariatur. \n",
    "Excepteur sint occaecat cupidatat non proident, sunt in culpa qui officia deserunt mollit anim id est laborum.%   "
   ]
  },
  {
   "cell_type": "markdown",
   "metadata": {},
   "source": [
    "#### Visualiza las primeras 3 líneas del archivo `sed.txt` dentro de la carpeta lorem-copy "
   ]
  },
  {
   "cell_type": "markdown",
   "metadata": {},
   "source": [
    "head -n 3 sed.txt\n",
    "\n",
    "Sed ut perspiciatis unde omnis iste natus error sit voluptatem accusantium doloremque laudantium, \n",
    "totam rem aperiam, eaque ipsa quae ab illo inventore veritatis \n",
    "et quasi architecto beatae vitae dicta sunt explicabo. \n",
    "Nemo enim ipsam voluptatem quia voluptas sit aspernatur aut odit aut fugit,"
   ]
  },
  {
   "cell_type": "markdown",
   "metadata": {},
   "source": [
    "#### Visualiza las ultimas 3 líneas del archivo `sed.txt` dentro de la carpeta lorem-copy "
   ]
  },
  {
   "cell_type": "markdown",
   "metadata": {},
   "source": [
    "tail -n 3 sed.txt\n",
    "\n",
    "Ut enim ad minima veniam, quis nostrum exercitationem ullam corporis suscipit laboriosam, \n",
    "nisi ut aliquid ex ea commodi consequatur? Quis autem vel eum iure reprehenderit qui in ea voluptate velit esse quam nihil molestiae consequatur, \n",
    "vel illum qui dolorem eum fugiat quo voluptas nulla pariatur?% "
   ]
  },
  {
   "cell_type": "markdown",
   "metadata": {},
   "source": [
    "#### Añade `Homo homini lupus.` al final de archivo `sed.txt` dentro de la carpeta lorem-copy. "
   ]
  },
  {
   "cell_type": "markdown",
   "metadata": {},
   "source": [
    "echo \"Homo homini lupus\" >> sed.txt"
   ]
  },
  {
   "cell_type": "markdown",
   "metadata": {},
   "source": [
    "#### Visualiza las últimas 3 líneas del archivo `sed.txt` dentro de la carpeta lorem-copy. Deberías ver ahora `Homo homini lupus.`. "
   ]
  },
  {
   "cell_type": "markdown",
   "metadata": {},
   "source": [
    "tail -n 3 sed.txt\n",
    " \n",
    "Ut enim ad minima veniam, quis nostrum exercitationem ullam corporis suscipit laboriosam, \n",
    "nisi ut aliquid ex ea commodi consequatur? Quis autem vel eum iure reprehenderit qui in ea voluptate velit esse quam nihil molestiae consequatur, \n",
    "vel illum qui dolorem eum fugiat quo voluptas nulla pariatur?Homo homini lupus"
   ]
  },
  {
   "cell_type": "markdown",
   "metadata": {},
   "source": [
    "#### Sustituye todas las apariciones de `et` por `ET` del archivo `at.txt` dentro de la carpeta lorem-copy. Deberás usar `sed`. "
   ]
  },
  {
   "cell_type": "markdown",
   "metadata": {},
   "source": [
    "sed 's/et/ET/' at.txt  \n",
    "\n",
    "At vero eos ET accusamus et iusto odio dignissimos ducimus qui blanditiis praesentium voluptatum \n",
    "deleniti atque corrupti quos dolores ET quas molestias excepturi sint occaecati cupiditate non \n",
    "provident, similique sunt in culpa qui officia deserunt mollitia animi, id est laborum ET dolorum fuga. \n",
    "Et harum quidem rerum facilis est ET expedita distinctio. \n",
    "Nam libero tempore, cum soluta nobis est eligendi optio cumque nihil impedit quo minus id quod \n",
    "maxime placeat facere possimus, omnis voluptas assumenda est, omnis dolor repellendus. \n",
    "Temporibus autem quibusdam ET aut officiis debitis aut rerum necessitatibus saepe eveniet \n",
    "ut ET voluptates repudiandae sint et molestiae non recusandae. \n",
    "Itaque earum rerum hic tenETur a sapiente delectus, ut aut reiciendis voluptatibus maiores \n",
    "alias consequatur aut perferendis doloribus asperiores repellat"
   ]
  },
  {
   "cell_type": "markdown",
   "metadata": {},
   "source": [
    "#### Encuentra al usuario activo en el sistema."
   ]
  },
  {
   "cell_type": "markdown",
   "metadata": {},
   "source": [
    "pwd\n",
    "\n",
    "/Users/lucianalescano"
   ]
  },
  {
   "cell_type": "markdown",
   "metadata": {},
   "source": [
    "#### Encuentra dónde estás en tu sistema de ficheros."
   ]
  },
  {
   "cell_type": "markdown",
   "metadata": {},
   "source": [
    " pwd\n",
    " \n",
    "/Users/lucianalescano/ironhack/meanwhile/datamad1020-rev/module-1/lab-bash"
   ]
  },
  {
   "cell_type": "markdown",
   "metadata": {},
   "source": [
    "#### Lista los archivos que terminan por `.txt` en la carpeta lorem."
   ]
  },
  {
   "cell_type": "markdown",
   "metadata": {},
   "source": [
    "find *txt\n",
    "\n",
    "at.txt\n",
    "lorem.txt\n",
    "sed.txt"
   ]
  },
  {
   "cell_type": "markdown",
   "metadata": {},
   "source": [
    "#### Cuenta el número de líneas que tiene el archivo `sed.txt` dentro de la carpeta lorem. "
   ]
  },
  {
   "cell_type": "markdown",
   "metadata": {},
   "source": [
    "wc -l sed.txt\n",
    "       8 sed.txt"
   ]
  },
  {
   "cell_type": "markdown",
   "metadata": {},
   "source": [
    "#### Cuenta el número de **archivos** que empiezan por `lorem` que están en este directorio y en directorios internos."
   ]
  },
  {
   "cell_type": "markdown",
   "metadata": {},
   "source": [
    "find lorem* | wc -l\n",
    "       9"
   ]
  },
  {
   "cell_type": "markdown",
   "metadata": {},
   "source": [
    "#### Encuentra todas las apariciones de `et` en `at.txt` dentro de la carpeta lorem."
   ]
  },
  {
   "cell_type": "markdown",
   "metadata": {},
   "source": [
    "grep -w et ../lorem/at.txt\n",
    "\n",
    "At vero eos et accusamus et iusto odio dignissimos ducimus qui blanditiis praesentium voluptatum \n",
    "deleniti atque corrupti quos dolores et quas molestias excepturi sint occaecati cupiditate non \n",
    "provident, similique sunt in culpa qui officia deserunt mollitia animi, id est laborum et dolorum fuga. \n",
    "Et harum quidem rerum facilis est et expedita distinctio. \n",
    "Temporibus autem quibusdam et aut officiis debitis aut rerum necessitatibus saepe eveniet \n",
    "ut et voluptates repudiandae sint et molestiae non recusandae. "
   ]
  },
  {
   "cell_type": "markdown",
   "metadata": {},
   "source": [
    "#### Cuenta el número de apariciones del string `et` en `at.txt` dentro de la carpeta lorem. "
   ]
  },
  {
   "cell_type": "markdown",
   "metadata": {},
   "source": [
    "grep -r et ../lorem/at.txt\n",
    "\n",
    "../lorem/at.txt:At vero eos et accusamus et iusto odio dignissimos ducimus qui blanditiis praesentium voluptatum \n",
    "../lorem/at.txt:deleniti atque corrupti quos dolores et quas molestias excepturi sint occaecati cupiditate non \n",
    "../lorem/at.txt:provident, similique sunt in culpa qui officia deserunt mollitia animi, id est laborum et dolorum fuga. \n",
    "../lorem/at.txt:Et harum quidem rerum facilis est et expedita distinctio. \n",
    "../lorem/at.txt:Temporibus autem quibusdam et aut officiis debitis aut rerum necessitatibus saepe eveniet \n",
    "../lorem/at.txt:ut et voluptates repudiandae sint et molestiae non recusandae. \n",
    "../lorem/at.txt:Itaque earum rerum hic tenetur a sapiente delectus, ut aut reiciendis voluptatibus maiores "
   ]
  },
  {
   "cell_type": "markdown",
   "metadata": {},
   "source": [
    "#### Cuenta el número de apariciones del string `et` en todos los archivos del directorio lorem-copy. "
   ]
  },
  {
   "cell_type": "markdown",
   "metadata": {},
   "source": [
    "grep -r et ../lorem-copy  \n",
    "\n",
    "../lorem-copy/at.txt:At vero eos et accusamus et iusto odio dignissimos ducimus qui blanditiis praesentium voluptatum \n",
    "../lorem-copy/at.txt:deleniti atque corrupti quos dolores et quas molestias excepturi sint occaecati cupiditate non \n",
    "../lorem-copy/at.txt:provident, similique sunt in culpa qui officia deserunt mollitia animi, id est laborum et dolorum fuga. \n",
    "../lorem-copy/at.txt:Et harum quidem rerum facilis est et expedita distinctio. \n",
    "../lorem-copy/at.txt:Temporibus autem quibusdam et aut officiis debitis aut rerum necessitatibus saepe eveniet \n",
    "../lorem-copy/at.txt:ut et voluptates repudiandae sint et molestiae non recusandae. \n",
    "../lorem-copy/at.txt:Itaque earum rerum hic tenetur a sapiente delectus, ut aut reiciendis voluptatibus maiores \n",
    "../lorem-copy/lorem.txt:Lorem ipsum dolor sit amet, consectetur adipiscing elit, sed do eiusmod tempor incididunt ut labore et dolore magna aliqua. \n",
    "../lorem-copy/sed.txt:totam rem aperiam, eaque ipsa quae ab illo inventore veritatis et quasi architecto beatae vitae dicta sunt explicabo. \n",
    "../lorem-copy/sed.txt:Neque porro quisquam est, qui dolorem ipsum quia dolor sit amet, consectetur, adipisci velit, \n",
    "../lorem-copy/sed.txt:sed quia non numquam eius modi tempora incidunt ut labore et dolore magnam aliquam quaerat voluptatem. "
   ]
  }
 ],
 "metadata": {
  "kernelspec": {
   "display_name": "Python 3",
   "language": "python",
   "name": "python3"
  },
  "language_info": {
   "codemirror_mode": {
    "name": "ipython",
    "version": 3
   },
   "file_extension": ".py",
   "mimetype": "text/x-python",
   "name": "python",
   "nbconvert_exporter": "python",
   "pygments_lexer": "ipython3",
   "version": "3.8.5"
  }
 },
 "nbformat": 4,
 "nbformat_minor": 4
}
